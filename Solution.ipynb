{
 "cells": [
  {
   "cell_type": "code",
   "execution_count": null,
   "id": "3daec72b-4285-42c4-8eda-2f6f90292193",
   "metadata": {},
   "outputs": [],
   "source": [
    "Privet\n"
   ]
  }
 ],
 "metadata": {
  "kernelspec": {
   "display_name": "",
   "name": ""
  },
  "language_info": {
   "name": ""
  }
 },
 "nbformat": 4,
 "nbformat_minor": 5
}
